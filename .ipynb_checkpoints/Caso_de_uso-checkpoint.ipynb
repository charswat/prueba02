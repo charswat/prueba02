{
 "cells": [
  {
   "cell_type": "code",
   "execution_count": null,
   "id": "98bc6f33-5e80-4130-9621-48865df2d5fa",
   "metadata": {},
   "outputs": [],
   "source": [
    "from pyspark.sql import SparkSession\n",
    "from pyspark.sql import functions as F\n",
    "import pandas as pd"
   ]
  },
  {
   "cell_type": "code",
   "execution_count": null,
   "id": "2c72825f-900c-4721-b5a0-5ba2af6b86bc",
   "metadata": {},
   "outputs": [],
   "source": [
    "spark = SparkSession. \\\n",
    " builder. \\\n",
    "appName('my-demo-spark-job'). \\\n",
    "master('yarn'). \\\n",
    "getOrCreate()"
   ]
  },
  {
   "cell_type": "code",
   "execution_count": null,
   "id": "03e580b0-3117-4631-91c0-691263f38805",
   "metadata": {},
   "outputs": [],
   "source": [
    "data =spark.read.format(\"csv\").option(\"header\", \"true\").load(\"file:///home/ubuntu/Versionado/osb_enftransm-covid-19_18082023.csv\")"
   ]
  },
  {
   "cell_type": "code",
   "execution_count": null,
   "id": "2a7d7f0a-c3ad-4782-93dc-79d8a3f80d7d",
   "metadata": {},
   "outputs": [],
   "source": [
    "data.count()"
   ]
  },
  {
   "cell_type": "code",
   "execution_count": null,
   "id": "c2a22537-1ee9-4a41-a59e-ab3ff2de593b",
   "metadata": {},
   "outputs": [],
   "source": [
    "data.printSchema\n"
   ]
  },
  {
   "cell_type": "code",
   "execution_count": null,
   "id": "24d25d85-e3d8-4435-a311-1f041f22870d",
   "metadata": {},
   "outputs": [],
   "source": [
    "data.show(10,False)"
   ]
  },
  {
   "cell_type": "code",
   "execution_count": null,
   "id": "87a138c8-efb6-4d3a-b07e-88274d2a4c43",
   "metadata": {},
   "outputs": [],
   "source": [
    "#fallecidos y recuperados por localidad\n",
    "data.groupby(\"LOCALIDAD_ASIS\",\"ESTADO\").count().orderBy(\"LOCALIDAD_ASIS\").show(truncate=False)"
   ]
  },
  {
   "cell_type": "code",
   "execution_count": null,
   "id": "af2f0f66-9683-46dd-a68d-e8340f6be691",
   "metadata": {},
   "outputs": [],
   "source": [
    "#fuente tipo de contagio por edad\n",
    "data.groupby(\"FUENTE_O_TIPO_DE_CONTAGIO\",F.col(\"EDAD\").cast(\"int\").alias(\"EDAD\")).count().orderBy(\"EDAD\").show(truncate=False)"
   ]
  },
  {
   "cell_type": "code",
   "execution_count": null,
   "id": "6dd70440-40e4-4c63-adf6-d494c3508a52",
   "metadata": {},
   "outputs": [],
   "source": [
    "#fallecidos y recuperados por genero\n",
    "data.groupby(\"ESTADO\",\"SEXO\").count().orderBy(\"SEXO\").show(truncate=False)"
   ]
  },
  {
   "cell_type": "code",
   "execution_count": null,
   "id": "291e5834-e592-4aaf-aac3-49bbb5ce1308",
   "metadata": {},
   "outputs": [],
   "source": [
    "#fallecidos y recuperados por edad\n",
    "data.groupby(\"ESTADO\",F.col(\"EDAD\").cast(\"int\").alias(\"EDAD\")).count().orderBy(\"EDAD\").show(truncate=False)"
   ]
  },
  {
   "cell_type": "code",
   "execution_count": null,
   "id": "dded8dca-304e-40fd-96d0-f8fbde0ebac2",
   "metadata": {},
   "outputs": [],
   "source": [
    "#Convertir a pandas\n",
    "fallecidosPd = fallecidos.toPandas()\n",
    "tipoContagioPd = tipoContagio.toPandas()\n",
    "estadoPd = estado.toPandas()\n",
    "estadoGeneroPd = estadoGenero.toPandas()"
   ]
  },
  {
   "cell_type": "code",
   "execution_count": null,
   "id": "19e6d9cf-1fcc-4829-98bc-6bde4941e305",
   "metadata": {},
   "outputs": [],
   "source": [
    "#graficos\n",
    "fallecidosPd.groupby(['ESTADO', 'LOCALIDAD_ASIS'])['count'].mean().unstack(level=0).plot(figsize=(10, 10),title='Estado contagio por localidad', kind = 'bar')\n",
    "tipoContagioPd.groupby(['FUENTE_O_TIPO_DE_CONTAGIO', 'EDAD'])['count'].mean().unstack(level=0).plot(figsize=(10, 10),title='Fuete de contagio', kind = 'line')\n",
    "estadoPd.groupby(['ESTADO', 'EDAD'])['count'].mean().unstack(level=0).plot(figsize=(10, 10),title='Estado de contagio por edad', kind = 'area')\n",
    "estadoGeneroPd.groupby(['ESTADO', 'SEXO'])['count'].mean().unstack(level=0).plot(figsize=(10, 10),title='Estado de contagio por sexo', kind = 'barh')"
   ]
  }
 ],
 "metadata": {
  "kernelspec": {
   "display_name": "Pyspark 3",
   "language": "python",
   "name": "pyspark3"
  },
  "language_info": {
   "codemirror_mode": {
    "name": "ipython",
    "version": 3
   },
   "file_extension": ".py",
   "mimetype": "text/x-python",
   "name": "python",
   "nbconvert_exporter": "python",
   "pygments_lexer": "ipython3",
   "version": "3.6.9"
  }
 },
 "nbformat": 4,
 "nbformat_minor": 5
}
